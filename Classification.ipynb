{
 "cells": [
  {
   "cell_type": "code",
   "execution_count": null,
   "metadata": {},
   "outputs": [],
   "source": [
    "import parselmouth\n",
    "import matplotlib.pyplot as plt\n",
    "import numpy as np\n",
    "import glob\n",
    "import os\n",
    "import pandas as pd\n",
    "import subprocess\n",
    "import time\n"
   ]
  },
  {
   "cell_type": "code",
   "execution_count": null,
   "metadata": {},
   "outputs": [],
   "source": [
    "# the differnt emotions in the files\n",
    "emotions = ['anxiety', 'boredom', 'cold-anger', 'contempt', 'despair', 'disgust', 'elation', 'happy',\n",
    "            'hot-anger', 'interest', 'neutral', 'panic',    'pride',    'sadness', 'shame']\n",
    "clr =      [\"red\",  \"cyan\",   \"orange\",  \"purple\",   \"magenta\", \"green\",    \"yellow\",  \"pink\",\n",
    "            \"yellow\", \"green\", \"magenta\", \"purple\",  \"orange\", \"cyan\",      \"red\"]\n",
    "\n",
    "speakers = ['mf_001', 'cc_001', 'jg_001', 'mm_001', 'cl_001', 'gg_001', 'mk_001']"
   ]
  },
  {
   "cell_type": "code",
   "execution_count": null,
   "metadata": {},
   "outputs": [],
   "source": [
    "# directory to opensmile\n",
    "smile = \"/opensmile-2.3.0/inst/bin\"\n",
    "cwd = os.getcwd()\n",
    "toFiles = cwd + \"/speech_files/\"\n",
    "\n",
    "\n",
    "run = './SMILExtract'\n",
    "conf = '../../config/IS09_emotion.conf'\n",
    "output = \"myfeatureset.csv\""
   ]
  },
  {
   "cell_type": "code",
   "execution_count": null,
   "metadata": {},
   "outputs": [],
   "source": [
    "# saving the names of the files\n",
    "names = []\n",
    "# change directory to opensmile\n",
    "os.chdir(smile)\n",
    "# batching processing the audio file\n",
    "# all the files should be contained in the folder called speech_files\n",
    "for wave_file in glob.glob(toFiles + \"*.wav\"):\n",
    "    \n",
    "    name = wave_file.split(\"/\")[-1][:len(wave_file.split(\"/\")[-1])-4]\n",
    "    print(\"Processing {}...\".format(name))\n",
    "#     print(run , '-C' , conf ,  '-I' , wave_file, '-csvoutput', output)\n",
    "    p = subprocess.Popen([run , '-C' , conf ,  '-I' , wave_file, '-csvoutput', output])\n",
    "    names.append(name)\n",
    "    p.wait()\n",
    "\n",
    "# reading the final feature file    \n",
    "data = pd.read_csv(output, sep=';')\n",
    "\n",
    "#changing names of the file\n",
    "print(\"number of files processed and featuresized: \", len(names))\n",
    "for x in range(len(names)):\n",
    "    data['name'][x] = names[x]\n",
    "\n",
    "# change back directory\n",
    "os.chdir(cwd)\n",
    "\n",
    "#saving file\n",
    "data.to_csv(output, index=False)"
   ]
  },
  {
   "cell_type": "code",
   "execution_count": null,
   "metadata": {},
   "outputs": [],
   "source": [
    "data = pd.read_csv(output)"
   ]
  },
  {
   "cell_type": "code",
   "execution_count": null,
   "metadata": {},
   "outputs": [],
   "source": []
  },
  {
   "cell_type": "code",
   "execution_count": null,
   "metadata": {},
   "outputs": [],
   "source": []
  },
  {
   "cell_type": "code",
   "execution_count": null,
   "metadata": {},
   "outputs": [],
   "source": []
  },
  {
   "cell_type": "code",
   "execution_count": null,
   "metadata": {},
   "outputs": [],
   "source": []
  },
  {
   "cell_type": "code",
   "execution_count": null,
   "metadata": {},
   "outputs": [],
   "source": []
  },
  {
   "cell_type": "code",
   "execution_count": null,
   "metadata": {},
   "outputs": [],
   "source": []
  },
  {
   "cell_type": "code",
   "execution_count": null,
   "metadata": {},
   "outputs": [],
   "source": []
  },
  {
   "cell_type": "code",
   "execution_count": null,
   "metadata": {},
   "outputs": [],
   "source": []
  },
  {
   "cell_type": "code",
   "execution_count": null,
   "metadata": {},
   "outputs": [],
   "source": []
  },
  {
   "cell_type": "code",
   "execution_count": null,
   "metadata": {},
   "outputs": [],
   "source": []
  }
 ],
 "metadata": {
  "kernelspec": {
   "display_name": "Python 3",
   "language": "python",
   "name": "python3"
  },
  "language_info": {
   "codemirror_mode": {
    "name": "ipython",
    "version": 3
   },
   "file_extension": ".py",
   "mimetype": "text/x-python",
   "name": "python",
   "nbconvert_exporter": "python",
   "pygments_lexer": "ipython3",
   "version": "3.6.8"
  }
 },
 "nbformat": 4,
 "nbformat_minor": 2
}
